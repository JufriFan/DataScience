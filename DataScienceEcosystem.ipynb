{
 "cells": [
  {
   "cell_type": "markdown",
   "id": "94414bc8-1656-4ce5-8621-8798621a7b3b",
   "metadata": {},
   "source": [
    "# Data Science Tools and Ecosystem"
   ]
  },
  {
   "cell_type": "markdown",
   "id": "0b5a5873-830e-4fe7-ac16-edf4f81a7b8b",
   "metadata": {},
   "source": [
    "In this notebook, Data Science Tools and Ecosystem are summarized."
   ]
  },
  {
   "cell_type": "markdown",
   "id": "31af02e3-41fb-4fc5-ad1f-6f02ab6f01d9",
   "metadata": {},
   "source": [
    "**Objectives:**\n",
    "- Understand popular language for Data Scientist\n",
    "- Understand popular libraries for Data Scientist\n",
    "- Understand Data Scientist Tools\n",
    "- Example of several arithmetic expression in Python"
   ]
  },
  {
   "cell_type": "markdown",
   "id": "7e48e8aa-f554-45c4-aec2-bca732b43163",
   "metadata": {},
   "source": [
    "Some of the popular languages that Data Scientists use are:\n",
    "1. **Python**\n",
    "2. **R**\n",
    "3. **SQL**\n",
    "4. **Julia**"
   ]
  },
  {
   "cell_type": "markdown",
   "id": "d8069c07-8eeb-4222-bedf-887fcf46719d",
   "metadata": {},
   "source": [
    "Some of the commonly used libraries used by Data Scientists include:\n",
    "1. **Pandas**\n",
    "2. **NumPy**\n",
    "3. **Matplotlib**\n",
    "4. **Seaborn**"
   ]
  },
  {
   "cell_type": "markdown",
   "id": "34215d26-539d-44f7-b4c5-fbe049ef6b5f",
   "metadata": {},
   "source": [
    "| Data Science Tools     |\n",
    "|------------------------|\n",
    "| Jupyter Notebooks      |\n",
    "| RStudio                |\n",
    "| Anaconda               |\n",
    "| Git/GitHub             |\n"
   ]
  },
  {
   "cell_type": "markdown",
   "id": "6ea421b5-d25f-4515-b856-042cd37700c5",
   "metadata": {},
   "source": [
    "### Below are a few examples of evaluating arithmetic expressions in Python\n",
    "\n",
    "#### addition\n",
    "3 + 5 \n",
    "\n",
    "#### subtraction\n",
    "5 - 3\n",
    "\n",
    "#### multiplication\n",
    "5 * 3"
   ]
  },
  {
   "cell_type": "code",
   "execution_count": 5,
   "id": "ca9479b4-2fc8-44f4-b11f-be62acaa972c",
   "metadata": {},
   "outputs": [
    {
     "data": {
      "text/plain": [
       "17"
      ]
     },
     "execution_count": 5,
     "metadata": {},
     "output_type": "execute_result"
    }
   ],
   "source": [
    "#This a simple arithmetic expression to mutiply then add integers\n",
    "(3*4)+5"
   ]
  },
  {
   "cell_type": "code",
   "execution_count": 6,
   "id": "933b970b-4407-48e9-a297-c269c7641ad7",
   "metadata": {},
   "outputs": [
    {
     "data": {
      "text/plain": [
       "3.3333333333333335"
      ]
     },
     "execution_count": 6,
     "metadata": {},
     "output_type": "execute_result"
    }
   ],
   "source": [
    "#This will convert 200 minutes to hours by diving by 60\n",
    "200 / 60"
   ]
  },
  {
   "cell_type": "markdown",
   "id": "07a0214e-efe8-4ceb-972a-afa288a4d562",
   "metadata": {},
   "source": [
    "## Author\n",
    "\n",
    "Jufri Fan"
   ]
  },
  {
   "cell_type": "code",
   "execution_count": null,
   "id": "bc0c0442-8392-4040-aef3-7bcdf05b62f3",
   "metadata": {},
   "outputs": [],
   "source": []
  }
 ],
 "metadata": {
  "kernelspec": {
   "display_name": "Python 3 (ipykernel)",
   "language": "python",
   "name": "python3"
  },
  "language_info": {
   "codemirror_mode": {
    "name": "ipython",
    "version": 3
   },
   "file_extension": ".py",
   "mimetype": "text/x-python",
   "name": "python",
   "nbconvert_exporter": "python",
   "pygments_lexer": "ipython3",
   "version": "3.12.9"
  }
 },
 "nbformat": 4,
 "nbformat_minor": 5
}
